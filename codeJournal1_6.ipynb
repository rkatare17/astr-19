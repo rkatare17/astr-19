{
 "cells": [
  {
   "cell_type": "code",
   "execution_count": 1,
   "id": "93163057-d853-4c76-bbda-fb1cbcb6ce8e",
   "metadata": {},
   "outputs": [],
   "source": [
    "import numpy as np"
   ]
  },
  {
   "cell_type": "code",
   "execution_count": 2,
   "id": "c3e66be7-821f-4fcb-aae1-d481ee31006f",
   "metadata": {},
   "outputs": [],
   "source": [
    "#function that returns sin(x)\n",
    "def returnSin(x):\n",
    "    return np.sin(x)"
   ]
  },
  {
   "cell_type": "code",
   "execution_count": 4,
   "id": "ee4277cb-1adb-4c13-bdb5-0df8d8ce32ae",
   "metadata": {},
   "outputs": [],
   "source": [
    "#function that returns cos(x)\n",
    "def returnCos(x):\n",
    "    return np.cos(x)"
   ]
  },
  {
   "cell_type": "code",
   "execution_count": 15,
   "id": "55b42f2b-850c-4ae5-a198-b570a755fd8b",
   "metadata": {},
   "outputs": [],
   "source": [
    "def main():\n",
    "    x_val = np.linspace(0,2*np.pi,1000)\n",
    "    sin_val = returnSin(x_val)\n",
    "    cos_val = returnCos(x_val)\n",
    "    \n",
    "    print(\"      x.       sin(x)     cos(x)\")\n",
    "    for i in range (10):\n",
    "        print(f\"{x_val[i]:>10.4f}{sin_val[i]:>10.4f}{cos_val[i]:>10.4f}\")"
   ]
  },
  {
   "cell_type": "code",
   "execution_count": 16,
   "id": "d6d73d89-9e8e-4267-b74d-83697712b5a2",
   "metadata": {},
   "outputs": [
    {
     "name": "stdout",
     "output_type": "stream",
     "text": [
      "x.       sin(x)     cos(x)\n",
      "    0.0000    0.0000    1.0000\n",
      "    0.0063    0.0063    1.0000\n",
      "    0.0126    0.0126    0.9999\n",
      "    0.0189    0.0189    0.9998\n",
      "    0.0252    0.0252    0.9997\n",
      "    0.0314    0.0314    0.9995\n",
      "    0.0377    0.0377    0.9993\n",
      "    0.0440    0.0440    0.9990\n",
      "    0.0503    0.0503    0.9987\n",
      "    0.0566    0.0566    0.9984\n"
     ]
    }
   ],
   "source": [
    "if __name__ == \"__main__\":\n",
    "    main()"
   ]
  },
  {
   "cell_type": "code",
   "execution_count": null,
   "id": "563f3dbe-615c-401e-8338-ce5471b11d6a",
   "metadata": {},
   "outputs": [],
   "source": []
  }
 ],
 "metadata": {
  "kernelspec": {
   "display_name": "ASTR 19",
   "language": "python",
   "name": "astr19"
  },
  "language_info": {
   "codemirror_mode": {
    "name": "ipython",
    "version": 3
   },
   "file_extension": ".py",
   "mimetype": "text/x-python",
   "name": "python",
   "nbconvert_exporter": "python",
   "pygments_lexer": "ipython3",
   "version": "3.10.12"
  }
 },
 "nbformat": 4,
 "nbformat_minor": 5
}
